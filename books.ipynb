{
 "metadata": {
  "language_info": {
   "codemirror_mode": {
    "name": "ipython",
    "version": 3
   },
   "file_extension": ".py",
   "mimetype": "text/x-python",
   "name": "python",
   "nbconvert_exporter": "python",
   "pygments_lexer": "ipython3",
   "version": "3.9.4"
  },
  "orig_nbformat": 2,
  "kernelspec": {
   "name": "python3",
   "display_name": "Python 3.9.4 64-bit ('minimal_ds': conda)"
  },
  "interpreter": {
   "hash": "c71153724b1637e41552ce5c191932cce208957062185906e2c9a7eadaf217a3"
  }
 },
 "nbformat": 4,
 "nbformat_minor": 2,
 "cells": [
  {
   "cell_type": "code",
   "execution_count": 1,
   "metadata": {},
   "outputs": [],
   "source": [
    "import pandas as pd\n",
    "import os"
   ]
  },
  {
   "cell_type": "code",
   "execution_count": 2,
   "metadata": {},
   "outputs": [
    {
     "output_type": "execute_result",
     "data": {
      "text/plain": [
       "'c:\\\\Users\\\\MaxPC\\\\Documents\\\\Data Analyst Projects\\\\Books/books_data.xlsx'"
      ]
     },
     "metadata": {},
     "execution_count": 2
    }
   ],
   "source": [
    "pwd = os.getcwd()\n",
    "filepath = pwd + \"/books_data.xlsx\"\n",
    "filepath"
   ]
  },
  {
   "cell_type": "code",
   "execution_count": 3,
   "metadata": {},
   "outputs": [],
   "source": [
    "books = pd.read_excel(filepath)"
   ]
  },
  {
   "cell_type": "code",
   "execution_count": 4,
   "metadata": {},
   "outputs": [
    {
     "output_type": "execute_result",
     "data": {
      "text/plain": [
       "                                                  Name             Author  \\\n",
       "0                      Business Intelligence Guidebook       Rick Sherman   \n",
       "1                                      The Daily Stoic  Stephen Hanselman   \n",
       "2                                 Bible. Old Testament          No Author   \n",
       "3                                             11/22/63       Stephen King   \n",
       "4                                   Stillness is a Key       Ryan Holiday   \n",
       "..                                                 ...                ...   \n",
       "145                                          Outliers    Malcolm Gladwell   \n",
       "146                                           The Box       Marc Levinson   \n",
       "147                               How Not to Be Wrong    Jordan Ellenberg   \n",
       "148  5 Психологических Приемов, Которым Нас Не Учат...                NaN   \n",
       "149  Теория решения изобретательских задач — Википедия                NaN   \n",
       "\n",
       "       Status    Year    Score /5                   Genre     Type  \\\n",
       "0     Reading  2021.0         NaN        Business & Money     Book   \n",
       "1     Reading  2021.0         NaN              Philosophy     Book   \n",
       "2     Reading  2021.0         NaN                 Fiction     Book   \n",
       "3     Reading  2021.0         NaN                   Novel     Book   \n",
       "4    Finished  2021.0  ⭐️⭐️⭐️⭐️⭐️  Philosophy, Psychology     Book   \n",
       "..        ...     ...         ...                     ...      ...   \n",
       "145       NaN     NaN         NaN                     NaN     Book   \n",
       "146       NaN     NaN         NaN                     NaN     Book   \n",
       "147       NaN     NaN         NaN                     NaN     Book   \n",
       "148       NaN     NaN         NaN                     NaN  Article   \n",
       "149       NaN     NaN         NaN                     NaN  Article   \n",
       "\n",
       "           Complete date  \n",
       "0    2021-06-30 00:00:00  \n",
       "1    2021-12-31 00:00:00  \n",
       "2    2021-12-31 00:00:00  \n",
       "3    2021-05-31 00:00:00  \n",
       "4    2021-05-11 00:00:00  \n",
       "..                   ...  \n",
       "145                  NaN  \n",
       "146                  NaN  \n",
       "147                  NaN  \n",
       "148                  NaN  \n",
       "149                  NaN  \n",
       "\n",
       "[150 rows x 8 columns]"
      ],
      "text/html": "<div>\n<style scoped>\n    .dataframe tbody tr th:only-of-type {\n        vertical-align: middle;\n    }\n\n    .dataframe tbody tr th {\n        vertical-align: top;\n    }\n\n    .dataframe thead th {\n        text-align: right;\n    }\n</style>\n<table border=\"1\" class=\"dataframe\">\n  <thead>\n    <tr style=\"text-align: right;\">\n      <th></th>\n      <th>Name</th>\n      <th>Author</th>\n      <th>Status</th>\n      <th>Year</th>\n      <th>Score /5</th>\n      <th>Genre</th>\n      <th>Type</th>\n      <th>Complete date</th>\n    </tr>\n  </thead>\n  <tbody>\n    <tr>\n      <th>0</th>\n      <td>Business Intelligence Guidebook</td>\n      <td>Rick Sherman</td>\n      <td>Reading</td>\n      <td>2021.0</td>\n      <td>NaN</td>\n      <td>Business &amp; Money</td>\n      <td>Book</td>\n      <td>2021-06-30 00:00:00</td>\n    </tr>\n    <tr>\n      <th>1</th>\n      <td>The Daily Stoic</td>\n      <td>Stephen Hanselman</td>\n      <td>Reading</td>\n      <td>2021.0</td>\n      <td>NaN</td>\n      <td>Philosophy</td>\n      <td>Book</td>\n      <td>2021-12-31 00:00:00</td>\n    </tr>\n    <tr>\n      <th>2</th>\n      <td>Bible. Old Testament</td>\n      <td>No Author</td>\n      <td>Reading</td>\n      <td>2021.0</td>\n      <td>NaN</td>\n      <td>Fiction</td>\n      <td>Book</td>\n      <td>2021-12-31 00:00:00</td>\n    </tr>\n    <tr>\n      <th>3</th>\n      <td>11/22/63</td>\n      <td>Stephen King</td>\n      <td>Reading</td>\n      <td>2021.0</td>\n      <td>NaN</td>\n      <td>Novel</td>\n      <td>Book</td>\n      <td>2021-05-31 00:00:00</td>\n    </tr>\n    <tr>\n      <th>4</th>\n      <td>Stillness is a Key</td>\n      <td>Ryan Holiday</td>\n      <td>Finished</td>\n      <td>2021.0</td>\n      <td>⭐️⭐️⭐️⭐️⭐️</td>\n      <td>Philosophy, Psychology</td>\n      <td>Book</td>\n      <td>2021-05-11 00:00:00</td>\n    </tr>\n    <tr>\n      <th>...</th>\n      <td>...</td>\n      <td>...</td>\n      <td>...</td>\n      <td>...</td>\n      <td>...</td>\n      <td>...</td>\n      <td>...</td>\n      <td>...</td>\n    </tr>\n    <tr>\n      <th>145</th>\n      <td>Outliers</td>\n      <td>Malcolm Gladwell</td>\n      <td>NaN</td>\n      <td>NaN</td>\n      <td>NaN</td>\n      <td>NaN</td>\n      <td>Book</td>\n      <td>NaN</td>\n    </tr>\n    <tr>\n      <th>146</th>\n      <td>The Box</td>\n      <td>Marc Levinson</td>\n      <td>NaN</td>\n      <td>NaN</td>\n      <td>NaN</td>\n      <td>NaN</td>\n      <td>Book</td>\n      <td>NaN</td>\n    </tr>\n    <tr>\n      <th>147</th>\n      <td>How Not to Be Wrong</td>\n      <td>Jordan Ellenberg</td>\n      <td>NaN</td>\n      <td>NaN</td>\n      <td>NaN</td>\n      <td>NaN</td>\n      <td>Book</td>\n      <td>NaN</td>\n    </tr>\n    <tr>\n      <th>148</th>\n      <td>5 Психологических Приемов, Которым Нас Не Учат...</td>\n      <td>NaN</td>\n      <td>NaN</td>\n      <td>NaN</td>\n      <td>NaN</td>\n      <td>NaN</td>\n      <td>Article</td>\n      <td>NaN</td>\n    </tr>\n    <tr>\n      <th>149</th>\n      <td>Теория решения изобретательских задач — Википедия</td>\n      <td>NaN</td>\n      <td>NaN</td>\n      <td>NaN</td>\n      <td>NaN</td>\n      <td>NaN</td>\n      <td>Article</td>\n      <td>NaN</td>\n    </tr>\n  </tbody>\n</table>\n<p>150 rows × 8 columns</p>\n</div>"
     },
     "metadata": {},
     "execution_count": 4
    }
   ],
   "source": [
    "books"
   ]
  },
  {
   "cell_type": "code",
   "execution_count": 5,
   "metadata": {},
   "outputs": [],
   "source": [
    "books = books.copy()\n",
    "# making a copy of data"
   ]
  },
  {
   "cell_type": "code",
   "execution_count": 6,
   "metadata": {},
   "outputs": [
    {
     "output_type": "execute_result",
     "data": {
      "text/plain": [
       "                                                  Name             Author  \\\n",
       "0                      Business Intelligence Guidebook       Rick Sherman   \n",
       "1                                      The Daily Stoic  Stephen Hanselman   \n",
       "2                                 Bible. Old Testament          No Author   \n",
       "3                                             11/22/63       Stephen King   \n",
       "4                                   Stillness is a Key       Ryan Holiday   \n",
       "..                                                 ...                ...   \n",
       "145                                          Outliers    Malcolm Gladwell   \n",
       "146                                           The Box       Marc Levinson   \n",
       "147                               How Not to Be Wrong    Jordan Ellenberg   \n",
       "148  5 Психологических Приемов, Которым Нас Не Учат...                NaN   \n",
       "149  Теория решения изобретательских задач — Википедия                NaN   \n",
       "\n",
       "       Status    Score /5                   Genre        Complete date  \n",
       "0     Reading         NaN        Business & Money  2021-06-30 00:00:00  \n",
       "1     Reading         NaN              Philosophy  2021-12-31 00:00:00  \n",
       "2     Reading         NaN                 Fiction  2021-12-31 00:00:00  \n",
       "3     Reading         NaN                   Novel  2021-05-31 00:00:00  \n",
       "4    Finished  ⭐️⭐️⭐️⭐️⭐️  Philosophy, Psychology  2021-05-11 00:00:00  \n",
       "..        ...         ...                     ...                  ...  \n",
       "145       NaN         NaN                     NaN                  NaN  \n",
       "146       NaN         NaN                     NaN                  NaN  \n",
       "147       NaN         NaN                     NaN                  NaN  \n",
       "148       NaN         NaN                     NaN                  NaN  \n",
       "149       NaN         NaN                     NaN                  NaN  \n",
       "\n",
       "[150 rows x 6 columns]"
      ],
      "text/html": "<div>\n<style scoped>\n    .dataframe tbody tr th:only-of-type {\n        vertical-align: middle;\n    }\n\n    .dataframe tbody tr th {\n        vertical-align: top;\n    }\n\n    .dataframe thead th {\n        text-align: right;\n    }\n</style>\n<table border=\"1\" class=\"dataframe\">\n  <thead>\n    <tr style=\"text-align: right;\">\n      <th></th>\n      <th>Name</th>\n      <th>Author</th>\n      <th>Status</th>\n      <th>Score /5</th>\n      <th>Genre</th>\n      <th>Complete date</th>\n    </tr>\n  </thead>\n  <tbody>\n    <tr>\n      <th>0</th>\n      <td>Business Intelligence Guidebook</td>\n      <td>Rick Sherman</td>\n      <td>Reading</td>\n      <td>NaN</td>\n      <td>Business &amp; Money</td>\n      <td>2021-06-30 00:00:00</td>\n    </tr>\n    <tr>\n      <th>1</th>\n      <td>The Daily Stoic</td>\n      <td>Stephen Hanselman</td>\n      <td>Reading</td>\n      <td>NaN</td>\n      <td>Philosophy</td>\n      <td>2021-12-31 00:00:00</td>\n    </tr>\n    <tr>\n      <th>2</th>\n      <td>Bible. Old Testament</td>\n      <td>No Author</td>\n      <td>Reading</td>\n      <td>NaN</td>\n      <td>Fiction</td>\n      <td>2021-12-31 00:00:00</td>\n    </tr>\n    <tr>\n      <th>3</th>\n      <td>11/22/63</td>\n      <td>Stephen King</td>\n      <td>Reading</td>\n      <td>NaN</td>\n      <td>Novel</td>\n      <td>2021-05-31 00:00:00</td>\n    </tr>\n    <tr>\n      <th>4</th>\n      <td>Stillness is a Key</td>\n      <td>Ryan Holiday</td>\n      <td>Finished</td>\n      <td>⭐️⭐️⭐️⭐️⭐️</td>\n      <td>Philosophy, Psychology</td>\n      <td>2021-05-11 00:00:00</td>\n    </tr>\n    <tr>\n      <th>...</th>\n      <td>...</td>\n      <td>...</td>\n      <td>...</td>\n      <td>...</td>\n      <td>...</td>\n      <td>...</td>\n    </tr>\n    <tr>\n      <th>145</th>\n      <td>Outliers</td>\n      <td>Malcolm Gladwell</td>\n      <td>NaN</td>\n      <td>NaN</td>\n      <td>NaN</td>\n      <td>NaN</td>\n    </tr>\n    <tr>\n      <th>146</th>\n      <td>The Box</td>\n      <td>Marc Levinson</td>\n      <td>NaN</td>\n      <td>NaN</td>\n      <td>NaN</td>\n      <td>NaN</td>\n    </tr>\n    <tr>\n      <th>147</th>\n      <td>How Not to Be Wrong</td>\n      <td>Jordan Ellenberg</td>\n      <td>NaN</td>\n      <td>NaN</td>\n      <td>NaN</td>\n      <td>NaN</td>\n    </tr>\n    <tr>\n      <th>148</th>\n      <td>5 Психологических Приемов, Которым Нас Не Учат...</td>\n      <td>NaN</td>\n      <td>NaN</td>\n      <td>NaN</td>\n      <td>NaN</td>\n      <td>NaN</td>\n    </tr>\n    <tr>\n      <th>149</th>\n      <td>Теория решения изобретательских задач — Википедия</td>\n      <td>NaN</td>\n      <td>NaN</td>\n      <td>NaN</td>\n      <td>NaN</td>\n      <td>NaN</td>\n    </tr>\n  </tbody>\n</table>\n<p>150 rows × 6 columns</p>\n</div>"
     },
     "metadata": {},
     "execution_count": 6
    }
   ],
   "source": [
    "books.drop(columns=['Year','Type'])\n",
    "# droping columns"
   ]
  },
  {
   "cell_type": "code",
   "execution_count": 7,
   "metadata": {},
   "outputs": [
    {
     "output_type": "execute_result",
     "data": {
      "text/plain": [
       "     index                                               Name  \\\n",
       "0        0                    Business Intelligence Guidebook   \n",
       "1        1                                    The Daily Stoic   \n",
       "2        2                               Bible. Old Testament   \n",
       "3        3                                           11/22/63   \n",
       "4        4                                 Stillness is a Key   \n",
       "..     ...                                                ...   \n",
       "145    145                                          Outliers    \n",
       "146    146                                           The Box    \n",
       "147    147                               How Not to Be Wrong    \n",
       "148    148  5 Психологических Приемов, Которым Нас Не Учат...   \n",
       "149    149  Теория решения изобретательских задач — Википедия   \n",
       "\n",
       "                Author    Status    Year    Score /5                   Genre  \\\n",
       "0         Rick Sherman   Reading  2021.0         NaN        Business & Money   \n",
       "1    Stephen Hanselman   Reading  2021.0         NaN              Philosophy   \n",
       "2            No Author   Reading  2021.0         NaN                 Fiction   \n",
       "3         Stephen King   Reading  2021.0         NaN                   Novel   \n",
       "4         Ryan Holiday  Finished  2021.0  ⭐️⭐️⭐️⭐️⭐️  Philosophy, Psychology   \n",
       "..                 ...       ...     ...         ...                     ...   \n",
       "145   Malcolm Gladwell       NaN     NaN         NaN                     NaN   \n",
       "146      Marc Levinson       NaN     NaN         NaN                     NaN   \n",
       "147   Jordan Ellenberg       NaN     NaN         NaN                     NaN   \n",
       "148                NaN       NaN     NaN         NaN                     NaN   \n",
       "149                NaN       NaN     NaN         NaN                     NaN   \n",
       "\n",
       "        Type        Complete date  \n",
       "0       Book  2021-06-30 00:00:00  \n",
       "1       Book  2021-12-31 00:00:00  \n",
       "2       Book  2021-12-31 00:00:00  \n",
       "3       Book  2021-05-31 00:00:00  \n",
       "4       Book  2021-05-11 00:00:00  \n",
       "..       ...                  ...  \n",
       "145     Book                  NaN  \n",
       "146     Book                  NaN  \n",
       "147     Book                  NaN  \n",
       "148  Article                  NaN  \n",
       "149  Article                  NaN  \n",
       "\n",
       "[150 rows x 9 columns]"
      ],
      "text/html": "<div>\n<style scoped>\n    .dataframe tbody tr th:only-of-type {\n        vertical-align: middle;\n    }\n\n    .dataframe tbody tr th {\n        vertical-align: top;\n    }\n\n    .dataframe thead th {\n        text-align: right;\n    }\n</style>\n<table border=\"1\" class=\"dataframe\">\n  <thead>\n    <tr style=\"text-align: right;\">\n      <th></th>\n      <th>index</th>\n      <th>Name</th>\n      <th>Author</th>\n      <th>Status</th>\n      <th>Year</th>\n      <th>Score /5</th>\n      <th>Genre</th>\n      <th>Type</th>\n      <th>Complete date</th>\n    </tr>\n  </thead>\n  <tbody>\n    <tr>\n      <th>0</th>\n      <td>0</td>\n      <td>Business Intelligence Guidebook</td>\n      <td>Rick Sherman</td>\n      <td>Reading</td>\n      <td>2021.0</td>\n      <td>NaN</td>\n      <td>Business &amp; Money</td>\n      <td>Book</td>\n      <td>2021-06-30 00:00:00</td>\n    </tr>\n    <tr>\n      <th>1</th>\n      <td>1</td>\n      <td>The Daily Stoic</td>\n      <td>Stephen Hanselman</td>\n      <td>Reading</td>\n      <td>2021.0</td>\n      <td>NaN</td>\n      <td>Philosophy</td>\n      <td>Book</td>\n      <td>2021-12-31 00:00:00</td>\n    </tr>\n    <tr>\n      <th>2</th>\n      <td>2</td>\n      <td>Bible. Old Testament</td>\n      <td>No Author</td>\n      <td>Reading</td>\n      <td>2021.0</td>\n      <td>NaN</td>\n      <td>Fiction</td>\n      <td>Book</td>\n      <td>2021-12-31 00:00:00</td>\n    </tr>\n    <tr>\n      <th>3</th>\n      <td>3</td>\n      <td>11/22/63</td>\n      <td>Stephen King</td>\n      <td>Reading</td>\n      <td>2021.0</td>\n      <td>NaN</td>\n      <td>Novel</td>\n      <td>Book</td>\n      <td>2021-05-31 00:00:00</td>\n    </tr>\n    <tr>\n      <th>4</th>\n      <td>4</td>\n      <td>Stillness is a Key</td>\n      <td>Ryan Holiday</td>\n      <td>Finished</td>\n      <td>2021.0</td>\n      <td>⭐️⭐️⭐️⭐️⭐️</td>\n      <td>Philosophy, Psychology</td>\n      <td>Book</td>\n      <td>2021-05-11 00:00:00</td>\n    </tr>\n    <tr>\n      <th>...</th>\n      <td>...</td>\n      <td>...</td>\n      <td>...</td>\n      <td>...</td>\n      <td>...</td>\n      <td>...</td>\n      <td>...</td>\n      <td>...</td>\n      <td>...</td>\n    </tr>\n    <tr>\n      <th>145</th>\n      <td>145</td>\n      <td>Outliers</td>\n      <td>Malcolm Gladwell</td>\n      <td>NaN</td>\n      <td>NaN</td>\n      <td>NaN</td>\n      <td>NaN</td>\n      <td>Book</td>\n      <td>NaN</td>\n    </tr>\n    <tr>\n      <th>146</th>\n      <td>146</td>\n      <td>The Box</td>\n      <td>Marc Levinson</td>\n      <td>NaN</td>\n      <td>NaN</td>\n      <td>NaN</td>\n      <td>NaN</td>\n      <td>Book</td>\n      <td>NaN</td>\n    </tr>\n    <tr>\n      <th>147</th>\n      <td>147</td>\n      <td>How Not to Be Wrong</td>\n      <td>Jordan Ellenberg</td>\n      <td>NaN</td>\n      <td>NaN</td>\n      <td>NaN</td>\n      <td>NaN</td>\n      <td>Book</td>\n      <td>NaN</td>\n    </tr>\n    <tr>\n      <th>148</th>\n      <td>148</td>\n      <td>5 Психологических Приемов, Которым Нас Не Учат...</td>\n      <td>NaN</td>\n      <td>NaN</td>\n      <td>NaN</td>\n      <td>NaN</td>\n      <td>NaN</td>\n      <td>Article</td>\n      <td>NaN</td>\n    </tr>\n    <tr>\n      <th>149</th>\n      <td>149</td>\n      <td>Теория решения изобретательских задач — Википедия</td>\n      <td>NaN</td>\n      <td>NaN</td>\n      <td>NaN</td>\n      <td>NaN</td>\n      <td>NaN</td>\n      <td>Article</td>\n      <td>NaN</td>\n    </tr>\n  </tbody>\n</table>\n<p>150 rows × 9 columns</p>\n</div>"
     },
     "metadata": {},
     "execution_count": 7
    }
   ],
   "source": [
    "books.reset_index()\n"
   ]
  },
  {
   "cell_type": "code",
   "execution_count": 8,
   "metadata": {},
   "outputs": [
    {
     "output_type": "execute_result",
     "data": {
      "text/plain": [
       "                                                  Name                 Author  \\\n",
       "4                                   Stillness is a Key           Ryan Holiday   \n",
       "79                                            Only 13          Julia Manzaren   \n",
       "77                           A Young Doctor's Notebook               Bulgakov   \n",
       "72                                           Shantaram  Gregory David Roberts   \n",
       "71                                  Primitive thinking      Lucien Lévy-Bruhl   \n",
       "..                                                 ...                    ...   \n",
       "145                                          Outliers        Malcolm Gladwell   \n",
       "146                                           The Box           Marc Levinson   \n",
       "147                               How Not to Be Wrong        Jordan Ellenberg   \n",
       "148  5 Психологических Приемов, Которым Нас Не Учат...                    NaN   \n",
       "149  Теория решения изобретательских задач — Википедия                    NaN   \n",
       "\n",
       "       Status    Year    Score /5                   Genre     Type  \\\n",
       "4    Finished  2021.0  ⭐️⭐️⭐️⭐️⭐️  Philosophy, Psychology     Book   \n",
       "79   Finished  2019.0  ⭐️⭐️⭐️⭐️⭐️               Biography     Book   \n",
       "77   Finished  2019.0  ⭐️⭐️⭐️⭐️⭐️                   Prose     Book   \n",
       "72   Finished  2019.0  ⭐️⭐️⭐️⭐️⭐️                   Novel     Book   \n",
       "71   Finished  2019.0  ⭐️⭐️⭐️⭐️⭐️         Science Fiction     Book   \n",
       "..        ...     ...         ...                     ...      ...   \n",
       "145       NaN     NaN         NaN                     NaN     Book   \n",
       "146       NaN     NaN         NaN                     NaN     Book   \n",
       "147       NaN     NaN         NaN                     NaN     Book   \n",
       "148       NaN     NaN         NaN                     NaN  Article   \n",
       "149       NaN     NaN         NaN                     NaN  Article   \n",
       "\n",
       "           Complete date  \n",
       "4    2021-05-11 00:00:00  \n",
       "79   2019-06-30 00:00:00  \n",
       "77   2019-07-30 00:00:00  \n",
       "72   2019-08-30 00:00:00  \n",
       "71   2019-08-30 00:00:00  \n",
       "..                   ...  \n",
       "145                  NaN  \n",
       "146                  NaN  \n",
       "147                  NaN  \n",
       "148                  NaN  \n",
       "149                  NaN  \n",
       "\n",
       "[150 rows x 8 columns]"
      ],
      "text/html": "<div>\n<style scoped>\n    .dataframe tbody tr th:only-of-type {\n        vertical-align: middle;\n    }\n\n    .dataframe tbody tr th {\n        vertical-align: top;\n    }\n\n    .dataframe thead th {\n        text-align: right;\n    }\n</style>\n<table border=\"1\" class=\"dataframe\">\n  <thead>\n    <tr style=\"text-align: right;\">\n      <th></th>\n      <th>Name</th>\n      <th>Author</th>\n      <th>Status</th>\n      <th>Year</th>\n      <th>Score /5</th>\n      <th>Genre</th>\n      <th>Type</th>\n      <th>Complete date</th>\n    </tr>\n  </thead>\n  <tbody>\n    <tr>\n      <th>4</th>\n      <td>Stillness is a Key</td>\n      <td>Ryan Holiday</td>\n      <td>Finished</td>\n      <td>2021.0</td>\n      <td>⭐️⭐️⭐️⭐️⭐️</td>\n      <td>Philosophy, Psychology</td>\n      <td>Book</td>\n      <td>2021-05-11 00:00:00</td>\n    </tr>\n    <tr>\n      <th>79</th>\n      <td>Only 13</td>\n      <td>Julia Manzaren</td>\n      <td>Finished</td>\n      <td>2019.0</td>\n      <td>⭐️⭐️⭐️⭐️⭐️</td>\n      <td>Biography</td>\n      <td>Book</td>\n      <td>2019-06-30 00:00:00</td>\n    </tr>\n    <tr>\n      <th>77</th>\n      <td>A Young Doctor's Notebook</td>\n      <td>Bulgakov</td>\n      <td>Finished</td>\n      <td>2019.0</td>\n      <td>⭐️⭐️⭐️⭐️⭐️</td>\n      <td>Prose</td>\n      <td>Book</td>\n      <td>2019-07-30 00:00:00</td>\n    </tr>\n    <tr>\n      <th>72</th>\n      <td>Shantaram</td>\n      <td>Gregory David Roberts</td>\n      <td>Finished</td>\n      <td>2019.0</td>\n      <td>⭐️⭐️⭐️⭐️⭐️</td>\n      <td>Novel</td>\n      <td>Book</td>\n      <td>2019-08-30 00:00:00</td>\n    </tr>\n    <tr>\n      <th>71</th>\n      <td>Primitive thinking</td>\n      <td>Lucien Lévy-Bruhl</td>\n      <td>Finished</td>\n      <td>2019.0</td>\n      <td>⭐️⭐️⭐️⭐️⭐️</td>\n      <td>Science Fiction</td>\n      <td>Book</td>\n      <td>2019-08-30 00:00:00</td>\n    </tr>\n    <tr>\n      <th>...</th>\n      <td>...</td>\n      <td>...</td>\n      <td>...</td>\n      <td>...</td>\n      <td>...</td>\n      <td>...</td>\n      <td>...</td>\n      <td>...</td>\n    </tr>\n    <tr>\n      <th>145</th>\n      <td>Outliers</td>\n      <td>Malcolm Gladwell</td>\n      <td>NaN</td>\n      <td>NaN</td>\n      <td>NaN</td>\n      <td>NaN</td>\n      <td>Book</td>\n      <td>NaN</td>\n    </tr>\n    <tr>\n      <th>146</th>\n      <td>The Box</td>\n      <td>Marc Levinson</td>\n      <td>NaN</td>\n      <td>NaN</td>\n      <td>NaN</td>\n      <td>NaN</td>\n      <td>Book</td>\n      <td>NaN</td>\n    </tr>\n    <tr>\n      <th>147</th>\n      <td>How Not to Be Wrong</td>\n      <td>Jordan Ellenberg</td>\n      <td>NaN</td>\n      <td>NaN</td>\n      <td>NaN</td>\n      <td>NaN</td>\n      <td>Book</td>\n      <td>NaN</td>\n    </tr>\n    <tr>\n      <th>148</th>\n      <td>5 Психологических Приемов, Которым Нас Не Учат...</td>\n      <td>NaN</td>\n      <td>NaN</td>\n      <td>NaN</td>\n      <td>NaN</td>\n      <td>NaN</td>\n      <td>Article</td>\n      <td>NaN</td>\n    </tr>\n    <tr>\n      <th>149</th>\n      <td>Теория решения изобретательских задач — Википедия</td>\n      <td>NaN</td>\n      <td>NaN</td>\n      <td>NaN</td>\n      <td>NaN</td>\n      <td>NaN</td>\n      <td>Article</td>\n      <td>NaN</td>\n    </tr>\n  </tbody>\n</table>\n<p>150 rows × 8 columns</p>\n</div>"
     },
     "metadata": {},
     "execution_count": 8
    }
   ],
   "source": [
    "books.sort_values('Score /5',ascending=False)\n",
    "# sorting valuer by Score"
   ]
  },
  {
   "cell_type": "code",
   "execution_count": 9,
   "metadata": {},
   "outputs": [
    {
     "output_type": "execute_result",
     "data": {
      "text/plain": [
       "Book       146\n",
       "Article      2\n",
       "Other        1\n",
       "Podcast      1\n",
       "Name: Type, dtype: int64"
      ]
     },
     "metadata": {},
     "execution_count": 9
    }
   ],
   "source": [
    "books['Type'].value_counts()\n",
    "# counting each type"
   ]
  },
  {
   "cell_type": "code",
   "execution_count": 10,
   "metadata": {},
   "outputs": [],
   "source": [
    "books_data = books[books['Type'] == 'Book']\n",
    "# filterig type by 'Book'"
   ]
  },
  {
   "cell_type": "code",
   "execution_count": 11,
   "metadata": {},
   "outputs": [
    {
     "output_type": "execute_result",
     "data": {
      "text/plain": [
       "                                Name               Author    Status    Year  \\\n",
       "0    Business Intelligence Guidebook         Rick Sherman   Reading  2021.0   \n",
       "1                    The Daily Stoic    Stephen Hanselman   Reading  2021.0   \n",
       "2               Bible. Old Testament            No Author   Reading  2021.0   \n",
       "3                           11/22/63         Stephen King   Reading  2021.0   \n",
       "4                 Stillness is a Key         Ryan Holiday  Finished  2021.0   \n",
       "..                               ...                  ...       ...     ...   \n",
       "143                 The Great Gatsby  F. Scott Fitzgerald       NaN     NaN   \n",
       "144      How to Lie With Statistics          Darrell Huff       NaN     NaN   \n",
       "145                        Outliers      Malcolm Gladwell       NaN     NaN   \n",
       "146                         The Box         Marc Levinson       NaN     NaN   \n",
       "147             How Not to Be Wrong      Jordan Ellenberg       NaN     NaN   \n",
       "\n",
       "       Score /5                   Genre  Type        Complete date  \n",
       "0           NaN        Business & Money  Book  2021-06-30 00:00:00  \n",
       "1           NaN              Philosophy  Book  2021-12-31 00:00:00  \n",
       "2           NaN                 Fiction  Book  2021-12-31 00:00:00  \n",
       "3           NaN                   Novel  Book  2021-05-31 00:00:00  \n",
       "4    ⭐️⭐️⭐️⭐️⭐️  Philosophy, Psychology  Book  2021-05-11 00:00:00  \n",
       "..          ...                     ...   ...                  ...  \n",
       "143         NaN                     NaN  Book                  NaN  \n",
       "144         NaN                     NaN  Book                  NaN  \n",
       "145         NaN                     NaN  Book                  NaN  \n",
       "146         NaN                     NaN  Book                  NaN  \n",
       "147         NaN                     NaN  Book                  NaN  \n",
       "\n",
       "[146 rows x 8 columns]"
      ],
      "text/html": "<div>\n<style scoped>\n    .dataframe tbody tr th:only-of-type {\n        vertical-align: middle;\n    }\n\n    .dataframe tbody tr th {\n        vertical-align: top;\n    }\n\n    .dataframe thead th {\n        text-align: right;\n    }\n</style>\n<table border=\"1\" class=\"dataframe\">\n  <thead>\n    <tr style=\"text-align: right;\">\n      <th></th>\n      <th>Name</th>\n      <th>Author</th>\n      <th>Status</th>\n      <th>Year</th>\n      <th>Score /5</th>\n      <th>Genre</th>\n      <th>Type</th>\n      <th>Complete date</th>\n    </tr>\n  </thead>\n  <tbody>\n    <tr>\n      <th>0</th>\n      <td>Business Intelligence Guidebook</td>\n      <td>Rick Sherman</td>\n      <td>Reading</td>\n      <td>2021.0</td>\n      <td>NaN</td>\n      <td>Business &amp; Money</td>\n      <td>Book</td>\n      <td>2021-06-30 00:00:00</td>\n    </tr>\n    <tr>\n      <th>1</th>\n      <td>The Daily Stoic</td>\n      <td>Stephen Hanselman</td>\n      <td>Reading</td>\n      <td>2021.0</td>\n      <td>NaN</td>\n      <td>Philosophy</td>\n      <td>Book</td>\n      <td>2021-12-31 00:00:00</td>\n    </tr>\n    <tr>\n      <th>2</th>\n      <td>Bible. Old Testament</td>\n      <td>No Author</td>\n      <td>Reading</td>\n      <td>2021.0</td>\n      <td>NaN</td>\n      <td>Fiction</td>\n      <td>Book</td>\n      <td>2021-12-31 00:00:00</td>\n    </tr>\n    <tr>\n      <th>3</th>\n      <td>11/22/63</td>\n      <td>Stephen King</td>\n      <td>Reading</td>\n      <td>2021.0</td>\n      <td>NaN</td>\n      <td>Novel</td>\n      <td>Book</td>\n      <td>2021-05-31 00:00:00</td>\n    </tr>\n    <tr>\n      <th>4</th>\n      <td>Stillness is a Key</td>\n      <td>Ryan Holiday</td>\n      <td>Finished</td>\n      <td>2021.0</td>\n      <td>⭐️⭐️⭐️⭐️⭐️</td>\n      <td>Philosophy, Psychology</td>\n      <td>Book</td>\n      <td>2021-05-11 00:00:00</td>\n    </tr>\n    <tr>\n      <th>...</th>\n      <td>...</td>\n      <td>...</td>\n      <td>...</td>\n      <td>...</td>\n      <td>...</td>\n      <td>...</td>\n      <td>...</td>\n      <td>...</td>\n    </tr>\n    <tr>\n      <th>143</th>\n      <td>The Great Gatsby</td>\n      <td>F. Scott Fitzgerald</td>\n      <td>NaN</td>\n      <td>NaN</td>\n      <td>NaN</td>\n      <td>NaN</td>\n      <td>Book</td>\n      <td>NaN</td>\n    </tr>\n    <tr>\n      <th>144</th>\n      <td>How to Lie With Statistics</td>\n      <td>Darrell Huff</td>\n      <td>NaN</td>\n      <td>NaN</td>\n      <td>NaN</td>\n      <td>NaN</td>\n      <td>Book</td>\n      <td>NaN</td>\n    </tr>\n    <tr>\n      <th>145</th>\n      <td>Outliers</td>\n      <td>Malcolm Gladwell</td>\n      <td>NaN</td>\n      <td>NaN</td>\n      <td>NaN</td>\n      <td>NaN</td>\n      <td>Book</td>\n      <td>NaN</td>\n    </tr>\n    <tr>\n      <th>146</th>\n      <td>The Box</td>\n      <td>Marc Levinson</td>\n      <td>NaN</td>\n      <td>NaN</td>\n      <td>NaN</td>\n      <td>NaN</td>\n      <td>Book</td>\n      <td>NaN</td>\n    </tr>\n    <tr>\n      <th>147</th>\n      <td>How Not to Be Wrong</td>\n      <td>Jordan Ellenberg</td>\n      <td>NaN</td>\n      <td>NaN</td>\n      <td>NaN</td>\n      <td>NaN</td>\n      <td>Book</td>\n      <td>NaN</td>\n    </tr>\n  </tbody>\n</table>\n<p>146 rows × 8 columns</p>\n</div>"
     },
     "metadata": {},
     "execution_count": 11
    }
   ],
   "source": [
    "books_data"
   ]
  },
  {
   "cell_type": "code",
   "execution_count": 12,
   "metadata": {},
   "outputs": [
    {
     "output_type": "execute_result",
     "data": {
      "text/plain": [
       "Book    146\n",
       "Name: Type, dtype: int64"
      ]
     },
     "metadata": {},
     "execution_count": 12
    }
   ],
   "source": [
    "books_data['Type'].value_counts()\n",
    "# Checking Types"
   ]
  },
  {
   "cell_type": "code",
   "execution_count": 13,
   "metadata": {},
   "outputs": [
    {
     "output_type": "execute_result",
     "data": {
      "text/plain": [
       "                                Name               Author    Status    Year  \\\n",
       "0    Business Intelligence Guidebook         Rick Sherman   Reading  2021.0   \n",
       "1                    The Daily Stoic    Stephen Hanselman   Reading  2021.0   \n",
       "2               Bible. Old Testament            No Author   Reading  2021.0   \n",
       "3                           11/22/63         Stephen King   Reading  2021.0   \n",
       "4                 Stillness is a Key         Ryan Holiday  Finished  2021.0   \n",
       "..                               ...                  ...       ...     ...   \n",
       "143                 The Great Gatsby  F. Scott Fitzgerald       NaN     NaN   \n",
       "144      How to Lie With Statistics          Darrell Huff       NaN     NaN   \n",
       "145                        Outliers      Malcolm Gladwell       NaN     NaN   \n",
       "146                         The Box         Marc Levinson       NaN     NaN   \n",
       "147             How Not to Be Wrong      Jordan Ellenberg       NaN     NaN   \n",
       "\n",
       "       Score /5                   Genre  Type        Complete date  \n",
       "0           NaN        Business & Money  Book  2021-06-30 00:00:00  \n",
       "1           NaN              Philosophy  Book  2021-12-31 00:00:00  \n",
       "2           NaN                 Fiction  Book  2021-12-31 00:00:00  \n",
       "3           NaN                   Novel  Book  2021-05-31 00:00:00  \n",
       "4    ⭐️⭐️⭐️⭐️⭐️  Philosophy, Psychology  Book  2021-05-11 00:00:00  \n",
       "..          ...                     ...   ...                  ...  \n",
       "143         NaN                     NaN  Book                  NaN  \n",
       "144         NaN                     NaN  Book                  NaN  \n",
       "145         NaN                     NaN  Book                  NaN  \n",
       "146         NaN                     NaN  Book                  NaN  \n",
       "147         NaN                     NaN  Book                  NaN  \n",
       "\n",
       "[146 rows x 8 columns]"
      ],
      "text/html": "<div>\n<style scoped>\n    .dataframe tbody tr th:only-of-type {\n        vertical-align: middle;\n    }\n\n    .dataframe tbody tr th {\n        vertical-align: top;\n    }\n\n    .dataframe thead th {\n        text-align: right;\n    }\n</style>\n<table border=\"1\" class=\"dataframe\">\n  <thead>\n    <tr style=\"text-align: right;\">\n      <th></th>\n      <th>Name</th>\n      <th>Author</th>\n      <th>Status</th>\n      <th>Year</th>\n      <th>Score /5</th>\n      <th>Genre</th>\n      <th>Type</th>\n      <th>Complete date</th>\n    </tr>\n  </thead>\n  <tbody>\n    <tr>\n      <th>0</th>\n      <td>Business Intelligence Guidebook</td>\n      <td>Rick Sherman</td>\n      <td>Reading</td>\n      <td>2021.0</td>\n      <td>NaN</td>\n      <td>Business &amp; Money</td>\n      <td>Book</td>\n      <td>2021-06-30 00:00:00</td>\n    </tr>\n    <tr>\n      <th>1</th>\n      <td>The Daily Stoic</td>\n      <td>Stephen Hanselman</td>\n      <td>Reading</td>\n      <td>2021.0</td>\n      <td>NaN</td>\n      <td>Philosophy</td>\n      <td>Book</td>\n      <td>2021-12-31 00:00:00</td>\n    </tr>\n    <tr>\n      <th>2</th>\n      <td>Bible. Old Testament</td>\n      <td>No Author</td>\n      <td>Reading</td>\n      <td>2021.0</td>\n      <td>NaN</td>\n      <td>Fiction</td>\n      <td>Book</td>\n      <td>2021-12-31 00:00:00</td>\n    </tr>\n    <tr>\n      <th>3</th>\n      <td>11/22/63</td>\n      <td>Stephen King</td>\n      <td>Reading</td>\n      <td>2021.0</td>\n      <td>NaN</td>\n      <td>Novel</td>\n      <td>Book</td>\n      <td>2021-05-31 00:00:00</td>\n    </tr>\n    <tr>\n      <th>4</th>\n      <td>Stillness is a Key</td>\n      <td>Ryan Holiday</td>\n      <td>Finished</td>\n      <td>2021.0</td>\n      <td>⭐️⭐️⭐️⭐️⭐️</td>\n      <td>Philosophy, Psychology</td>\n      <td>Book</td>\n      <td>2021-05-11 00:00:00</td>\n    </tr>\n    <tr>\n      <th>...</th>\n      <td>...</td>\n      <td>...</td>\n      <td>...</td>\n      <td>...</td>\n      <td>...</td>\n      <td>...</td>\n      <td>...</td>\n      <td>...</td>\n    </tr>\n    <tr>\n      <th>143</th>\n      <td>The Great Gatsby</td>\n      <td>F. Scott Fitzgerald</td>\n      <td>NaN</td>\n      <td>NaN</td>\n      <td>NaN</td>\n      <td>NaN</td>\n      <td>Book</td>\n      <td>NaN</td>\n    </tr>\n    <tr>\n      <th>144</th>\n      <td>How to Lie With Statistics</td>\n      <td>Darrell Huff</td>\n      <td>NaN</td>\n      <td>NaN</td>\n      <td>NaN</td>\n      <td>NaN</td>\n      <td>Book</td>\n      <td>NaN</td>\n    </tr>\n    <tr>\n      <th>145</th>\n      <td>Outliers</td>\n      <td>Malcolm Gladwell</td>\n      <td>NaN</td>\n      <td>NaN</td>\n      <td>NaN</td>\n      <td>NaN</td>\n      <td>Book</td>\n      <td>NaN</td>\n    </tr>\n    <tr>\n      <th>146</th>\n      <td>The Box</td>\n      <td>Marc Levinson</td>\n      <td>NaN</td>\n      <td>NaN</td>\n      <td>NaN</td>\n      <td>NaN</td>\n      <td>Book</td>\n      <td>NaN</td>\n    </tr>\n    <tr>\n      <th>147</th>\n      <td>How Not to Be Wrong</td>\n      <td>Jordan Ellenberg</td>\n      <td>NaN</td>\n      <td>NaN</td>\n      <td>NaN</td>\n      <td>NaN</td>\n      <td>Book</td>\n      <td>NaN</td>\n    </tr>\n  </tbody>\n</table>\n<p>146 rows × 8 columns</p>\n</div>"
     },
     "metadata": {},
     "execution_count": 13
    }
   ],
   "source": [
    "books_data"
   ]
  },
  {
   "cell_type": "code",
   "execution_count": 23,
   "metadata": {},
   "outputs": [
    {
     "output_type": "execute_result",
     "data": {
      "text/plain": [
       "0       True\n",
       "1       True\n",
       "2       True\n",
       "3       True\n",
       "4       True\n",
       "       ...  \n",
       "143    False\n",
       "144    False\n",
       "145    False\n",
       "146    False\n",
       "147    False\n",
       "Name: Status, Length: 146, dtype: bool"
      ]
     },
     "metadata": {},
     "execution_count": 23
    }
   ],
   "source": [
    "books_data.Status.notnull()\n"
   ]
  },
  {
   "cell_type": "code",
   "execution_count": 29,
   "metadata": {},
   "outputs": [
    {
     "output_type": "execute_result",
     "data": {
      "text/plain": [
       "                                            Name              Author  \\\n",
       "0                Business Intelligence Guidebook        Rick Sherman   \n",
       "1                                The Daily Stoic   Stephen Hanselman   \n",
       "2                           Bible. Old Testament           No Author   \n",
       "3                                       11/22/63        Stephen King   \n",
       "4                             Stillness is a Key        Ryan Holiday   \n",
       "..                                           ...                 ...   \n",
       "106                     21 Lesson for 21 Century   Yuval Noah Harari   \n",
       "120                                 Thorn Birds   Colleen McCullough   \n",
       "121                             The power of one     Bryce Courtenay   \n",
       "134  What I Talk About When I Talk About Running     Haruki Murakami   \n",
       "137                   Moonwalking with Einstein          Joshua Foer   \n",
       "\n",
       "       Status    Year    Score /5                   Genre  Type  \\\n",
       "0     Reading  2021.0         NaN        Business & Money  Book   \n",
       "1     Reading  2021.0         NaN              Philosophy  Book   \n",
       "2     Reading  2021.0         NaN                 Fiction  Book   \n",
       "3     Reading  2021.0         NaN                   Novel  Book   \n",
       "4    Finished  2021.0  ⭐️⭐️⭐️⭐️⭐️  Philosophy, Psychology  Book   \n",
       "..        ...     ...         ...                     ...   ...   \n",
       "106   Planned     NaN         NaN                     NaN  Book   \n",
       "120    Cancel     NaN         NaN             Family saga  Book   \n",
       "121    Cancel     NaN         NaN                     NaN  Book   \n",
       "134   Planned     NaN         NaN               Biography  Book   \n",
       "137   Planned     NaN         NaN                     NaN  Book   \n",
       "\n",
       "           Complete date  \n",
       "0    2021-06-30 00:00:00  \n",
       "1    2021-12-31 00:00:00  \n",
       "2    2021-12-31 00:00:00  \n",
       "3    2021-05-31 00:00:00  \n",
       "4    2021-05-11 00:00:00  \n",
       "..                   ...  \n",
       "106                  NaN  \n",
       "120                  NaN  \n",
       "121                  NaN  \n",
       "134                  NaN  \n",
       "137                  NaN  \n",
       "\n",
       "[105 rows x 8 columns]"
      ],
      "text/html": "<div>\n<style scoped>\n    .dataframe tbody tr th:only-of-type {\n        vertical-align: middle;\n    }\n\n    .dataframe tbody tr th {\n        vertical-align: top;\n    }\n\n    .dataframe thead th {\n        text-align: right;\n    }\n</style>\n<table border=\"1\" class=\"dataframe\">\n  <thead>\n    <tr style=\"text-align: right;\">\n      <th></th>\n      <th>Name</th>\n      <th>Author</th>\n      <th>Status</th>\n      <th>Year</th>\n      <th>Score /5</th>\n      <th>Genre</th>\n      <th>Type</th>\n      <th>Complete date</th>\n    </tr>\n  </thead>\n  <tbody>\n    <tr>\n      <th>0</th>\n      <td>Business Intelligence Guidebook</td>\n      <td>Rick Sherman</td>\n      <td>Reading</td>\n      <td>2021.0</td>\n      <td>NaN</td>\n      <td>Business &amp; Money</td>\n      <td>Book</td>\n      <td>2021-06-30 00:00:00</td>\n    </tr>\n    <tr>\n      <th>1</th>\n      <td>The Daily Stoic</td>\n      <td>Stephen Hanselman</td>\n      <td>Reading</td>\n      <td>2021.0</td>\n      <td>NaN</td>\n      <td>Philosophy</td>\n      <td>Book</td>\n      <td>2021-12-31 00:00:00</td>\n    </tr>\n    <tr>\n      <th>2</th>\n      <td>Bible. Old Testament</td>\n      <td>No Author</td>\n      <td>Reading</td>\n      <td>2021.0</td>\n      <td>NaN</td>\n      <td>Fiction</td>\n      <td>Book</td>\n      <td>2021-12-31 00:00:00</td>\n    </tr>\n    <tr>\n      <th>3</th>\n      <td>11/22/63</td>\n      <td>Stephen King</td>\n      <td>Reading</td>\n      <td>2021.0</td>\n      <td>NaN</td>\n      <td>Novel</td>\n      <td>Book</td>\n      <td>2021-05-31 00:00:00</td>\n    </tr>\n    <tr>\n      <th>4</th>\n      <td>Stillness is a Key</td>\n      <td>Ryan Holiday</td>\n      <td>Finished</td>\n      <td>2021.0</td>\n      <td>⭐️⭐️⭐️⭐️⭐️</td>\n      <td>Philosophy, Psychology</td>\n      <td>Book</td>\n      <td>2021-05-11 00:00:00</td>\n    </tr>\n    <tr>\n      <th>...</th>\n      <td>...</td>\n      <td>...</td>\n      <td>...</td>\n      <td>...</td>\n      <td>...</td>\n      <td>...</td>\n      <td>...</td>\n      <td>...</td>\n    </tr>\n    <tr>\n      <th>106</th>\n      <td>21 Lesson for 21 Century</td>\n      <td>Yuval Noah Harari</td>\n      <td>Planned</td>\n      <td>NaN</td>\n      <td>NaN</td>\n      <td>NaN</td>\n      <td>Book</td>\n      <td>NaN</td>\n    </tr>\n    <tr>\n      <th>120</th>\n      <td>Thorn Birds</td>\n      <td>Colleen McCullough</td>\n      <td>Cancel</td>\n      <td>NaN</td>\n      <td>NaN</td>\n      <td>Family saga</td>\n      <td>Book</td>\n      <td>NaN</td>\n    </tr>\n    <tr>\n      <th>121</th>\n      <td>The power of one</td>\n      <td>Bryce Courtenay</td>\n      <td>Cancel</td>\n      <td>NaN</td>\n      <td>NaN</td>\n      <td>NaN</td>\n      <td>Book</td>\n      <td>NaN</td>\n    </tr>\n    <tr>\n      <th>134</th>\n      <td>What I Talk About When I Talk About Running</td>\n      <td>Haruki Murakami</td>\n      <td>Planned</td>\n      <td>NaN</td>\n      <td>NaN</td>\n      <td>Biography</td>\n      <td>Book</td>\n      <td>NaN</td>\n    </tr>\n    <tr>\n      <th>137</th>\n      <td>Moonwalking with Einstein</td>\n      <td>Joshua Foer</td>\n      <td>Planned</td>\n      <td>NaN</td>\n      <td>NaN</td>\n      <td>NaN</td>\n      <td>Book</td>\n      <td>NaN</td>\n    </tr>\n  </tbody>\n</table>\n<p>105 rows × 8 columns</p>\n</div>"
     },
     "metadata": {},
     "execution_count": 29
    }
   ],
   "source": [
    "filtered_books_data = books_data[books_data.Status.notnull()]\n",
    "filtered_books_data\n",
    "# Dropping rows with null"
   ]
  },
  {
   "cell_type": "code",
   "execution_count": 30,
   "metadata": {},
   "outputs": [],
   "source": [
    "filtered_books_data.to_excel('data_output.xlsx', index = False)"
   ]
  }
 ]
}